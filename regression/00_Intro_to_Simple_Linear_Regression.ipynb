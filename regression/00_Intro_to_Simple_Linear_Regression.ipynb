{
  "cells": [
    {
      "cell_type": "markdown",
      "metadata": {
        "id": "view-in-github",
        "colab_type": "text"
      },
      "source": [
        "<a href=\"https://colab.research.google.com/github/balinenisreedharnaidu/Data-Science-and-Machine-Learning/blob/main/regression/00_Intro_to_Simple_Linear_Regression.ipynb\" target=\"_parent\"><img src=\"https://colab.research.google.com/assets/colab-badge.svg\" alt=\"Open In Colab\"/></a>"
      ]
    },
    {
      "cell_type": "markdown",
      "metadata": {
        "id": "5pU8EiJoM91y"
      },
      "source": [
        "# Introduction to Simple Linear Regression\n",
        "\n",
        "In this very simple example, we'll explore how to create a very simple fit line, the classic case of y=mx+b. We'll go carefully through each step, so you can see what type of question a simple fit line can answer. Keep in mind, this case is very simplified and is not the approach we'll take later on, its just here to get you thinking about linear regression in perhaps the same way [Galton](https://en.wikipedia.org/wiki/Francis_Galton) did."
      ]
    },
    {
      "cell_type": "markdown",
      "metadata": {
        "id": "g4r6bZbfM915"
      },
      "source": [
        "## Imports"
      ]
    },
    {
      "cell_type": "code",
      "execution_count": 1,
      "metadata": {
        "id": "wh0NvF5rM91-"
      },
      "outputs": [],
      "source": [
        "import numpy as np\n",
        "import pandas as pd\n",
        "import matplotlib.pyplot as plt\n",
        "import seaborn as sns"
      ]
    },
    {
      "cell_type": "markdown",
      "metadata": {
        "id": "SH3SCqVKM92D"
      },
      "source": [
        "## Sample Data\n",
        "\n",
        "This sample data is from ISLR. It displays sales (in thousands of units) for a particular product as a function of advertising budgets (in thousands of dollars) for TV, radio, and newspaper media."
      ]
    },
    {
      "cell_type": "code",
      "execution_count": 3,
      "metadata": {
        "id": "uCkYKzIIM92F"
      },
      "outputs": [],
      "source": [
        "df = pd.read_csv(\"Advertising.csv\")"
      ]
    },
    {
      "cell_type": "code",
      "execution_count": null,
      "metadata": {
        "id": "COaXCbgkM92G",
        "outputId": "7e714310-b6af-4167-cb96-e9a6ab93401c"
      },
      "outputs": [
        {
          "data": {
            "text/html": [
              "<div>\n",
              "<style scoped>\n",
              "    .dataframe tbody tr th:only-of-type {\n",
              "        vertical-align: middle;\n",
              "    }\n",
              "\n",
              "    .dataframe tbody tr th {\n",
              "        vertical-align: top;\n",
              "    }\n",
              "\n",
              "    .dataframe thead th {\n",
              "        text-align: right;\n",
              "    }\n",
              "</style>\n",
              "<table border=\"1\" class=\"dataframe\">\n",
              "  <thead>\n",
              "    <tr style=\"text-align: right;\">\n",
              "      <th></th>\n",
              "      <th>TV</th>\n",
              "      <th>radio</th>\n",
              "      <th>newspaper</th>\n",
              "      <th>sales</th>\n",
              "    </tr>\n",
              "  </thead>\n",
              "  <tbody>\n",
              "    <tr>\n",
              "      <th>0</th>\n",
              "      <td>230.1</td>\n",
              "      <td>37.8</td>\n",
              "      <td>69.2</td>\n",
              "      <td>22.1</td>\n",
              "    </tr>\n",
              "    <tr>\n",
              "      <th>1</th>\n",
              "      <td>44.5</td>\n",
              "      <td>39.3</td>\n",
              "      <td>45.1</td>\n",
              "      <td>10.4</td>\n",
              "    </tr>\n",
              "    <tr>\n",
              "      <th>2</th>\n",
              "      <td>17.2</td>\n",
              "      <td>45.9</td>\n",
              "      <td>69.3</td>\n",
              "      <td>9.3</td>\n",
              "    </tr>\n",
              "    <tr>\n",
              "      <th>3</th>\n",
              "      <td>151.5</td>\n",
              "      <td>41.3</td>\n",
              "      <td>58.5</td>\n",
              "      <td>18.5</td>\n",
              "    </tr>\n",
              "    <tr>\n",
              "      <th>4</th>\n",
              "      <td>180.8</td>\n",
              "      <td>10.8</td>\n",
              "      <td>58.4</td>\n",
              "      <td>12.9</td>\n",
              "    </tr>\n",
              "  </tbody>\n",
              "</table>\n",
              "</div>"
            ],
            "text/plain": [
              "      TV  radio  newspaper  sales\n",
              "0  230.1   37.8       69.2   22.1\n",
              "1   44.5   39.3       45.1   10.4\n",
              "2   17.2   45.9       69.3    9.3\n",
              "3  151.5   41.3       58.5   18.5\n",
              "4  180.8   10.8       58.4   12.9"
            ]
          },
          "execution_count": 10,
          "metadata": {},
          "output_type": "execute_result"
        }
      ],
      "source": [
        "df.head()"
      ]
    },
    {
      "cell_type": "markdown",
      "metadata": {
        "id": "u3rSoamYM92M"
      },
      "source": [
        "**Is there a relationship between *total* advertising spend and *sales*?**"
      ]
    },
    {
      "cell_type": "code",
      "execution_count": 4,
      "metadata": {
        "id": "SwqAoL0bM92N"
      },
      "outputs": [],
      "source": [
        "df['total_spend'] = df['TV'] + df['radio'] + df['newspaper']"
      ]
    },
    {
      "cell_type": "code",
      "source": [
        "df.head(10)"
      ],
      "metadata": {
        "colab": {
          "base_uri": "https://localhost:8080/",
          "height": 363
        },
        "id": "7NQOtugXNz_I",
        "outputId": "c7967387-4c30-4a16-eef6-187f2f687cb7"
      },
      "execution_count": 5,
      "outputs": [
        {
          "output_type": "execute_result",
          "data": {
            "text/plain": [
              "      TV  radio  newspaper  sales  total_spend\n",
              "0  230.1   37.8       69.2   22.1        337.1\n",
              "1   44.5   39.3       45.1   10.4        128.9\n",
              "2   17.2   45.9       69.3    9.3        132.4\n",
              "3  151.5   41.3       58.5   18.5        251.3\n",
              "4  180.8   10.8       58.4   12.9        250.0\n",
              "5    8.7   48.9       75.0    7.2        132.6\n",
              "6   57.5   32.8       23.5   11.8        113.8\n",
              "7  120.2   19.6       11.6   13.2        151.4\n",
              "8    8.6    2.1        1.0    4.8         11.7\n",
              "9  199.8    2.6       21.2   10.6        223.6"
            ],
            "text/html": [
              "\n",
              "  <div id=\"df-00567ac1-fb9f-4055-bf00-4db48138eb20\">\n",
              "    <div class=\"colab-df-container\">\n",
              "      <div>\n",
              "<style scoped>\n",
              "    .dataframe tbody tr th:only-of-type {\n",
              "        vertical-align: middle;\n",
              "    }\n",
              "\n",
              "    .dataframe tbody tr th {\n",
              "        vertical-align: top;\n",
              "    }\n",
              "\n",
              "    .dataframe thead th {\n",
              "        text-align: right;\n",
              "    }\n",
              "</style>\n",
              "<table border=\"1\" class=\"dataframe\">\n",
              "  <thead>\n",
              "    <tr style=\"text-align: right;\">\n",
              "      <th></th>\n",
              "      <th>TV</th>\n",
              "      <th>radio</th>\n",
              "      <th>newspaper</th>\n",
              "      <th>sales</th>\n",
              "      <th>total_spend</th>\n",
              "    </tr>\n",
              "  </thead>\n",
              "  <tbody>\n",
              "    <tr>\n",
              "      <th>0</th>\n",
              "      <td>230.1</td>\n",
              "      <td>37.8</td>\n",
              "      <td>69.2</td>\n",
              "      <td>22.1</td>\n",
              "      <td>337.1</td>\n",
              "    </tr>\n",
              "    <tr>\n",
              "      <th>1</th>\n",
              "      <td>44.5</td>\n",
              "      <td>39.3</td>\n",
              "      <td>45.1</td>\n",
              "      <td>10.4</td>\n",
              "      <td>128.9</td>\n",
              "    </tr>\n",
              "    <tr>\n",
              "      <th>2</th>\n",
              "      <td>17.2</td>\n",
              "      <td>45.9</td>\n",
              "      <td>69.3</td>\n",
              "      <td>9.3</td>\n",
              "      <td>132.4</td>\n",
              "    </tr>\n",
              "    <tr>\n",
              "      <th>3</th>\n",
              "      <td>151.5</td>\n",
              "      <td>41.3</td>\n",
              "      <td>58.5</td>\n",
              "      <td>18.5</td>\n",
              "      <td>251.3</td>\n",
              "    </tr>\n",
              "    <tr>\n",
              "      <th>4</th>\n",
              "      <td>180.8</td>\n",
              "      <td>10.8</td>\n",
              "      <td>58.4</td>\n",
              "      <td>12.9</td>\n",
              "      <td>250.0</td>\n",
              "    </tr>\n",
              "    <tr>\n",
              "      <th>5</th>\n",
              "      <td>8.7</td>\n",
              "      <td>48.9</td>\n",
              "      <td>75.0</td>\n",
              "      <td>7.2</td>\n",
              "      <td>132.6</td>\n",
              "    </tr>\n",
              "    <tr>\n",
              "      <th>6</th>\n",
              "      <td>57.5</td>\n",
              "      <td>32.8</td>\n",
              "      <td>23.5</td>\n",
              "      <td>11.8</td>\n",
              "      <td>113.8</td>\n",
              "    </tr>\n",
              "    <tr>\n",
              "      <th>7</th>\n",
              "      <td>120.2</td>\n",
              "      <td>19.6</td>\n",
              "      <td>11.6</td>\n",
              "      <td>13.2</td>\n",
              "      <td>151.4</td>\n",
              "    </tr>\n",
              "    <tr>\n",
              "      <th>8</th>\n",
              "      <td>8.6</td>\n",
              "      <td>2.1</td>\n",
              "      <td>1.0</td>\n",
              "      <td>4.8</td>\n",
              "      <td>11.7</td>\n",
              "    </tr>\n",
              "    <tr>\n",
              "      <th>9</th>\n",
              "      <td>199.8</td>\n",
              "      <td>2.6</td>\n",
              "      <td>21.2</td>\n",
              "      <td>10.6</td>\n",
              "      <td>223.6</td>\n",
              "    </tr>\n",
              "  </tbody>\n",
              "</table>\n",
              "</div>\n",
              "      <button class=\"colab-df-convert\" onclick=\"convertToInteractive('df-00567ac1-fb9f-4055-bf00-4db48138eb20')\"\n",
              "              title=\"Convert this dataframe to an interactive table.\"\n",
              "              style=\"display:none;\">\n",
              "        \n",
              "  <svg xmlns=\"http://www.w3.org/2000/svg\" height=\"24px\"viewBox=\"0 0 24 24\"\n",
              "       width=\"24px\">\n",
              "    <path d=\"M0 0h24v24H0V0z\" fill=\"none\"/>\n",
              "    <path d=\"M18.56 5.44l.94 2.06.94-2.06 2.06-.94-2.06-.94-.94-2.06-.94 2.06-2.06.94zm-11 1L8.5 8.5l.94-2.06 2.06-.94-2.06-.94L8.5 2.5l-.94 2.06-2.06.94zm10 10l.94 2.06.94-2.06 2.06-.94-2.06-.94-.94-2.06-.94 2.06-2.06.94z\"/><path d=\"M17.41 7.96l-1.37-1.37c-.4-.4-.92-.59-1.43-.59-.52 0-1.04.2-1.43.59L10.3 9.45l-7.72 7.72c-.78.78-.78 2.05 0 2.83L4 21.41c.39.39.9.59 1.41.59.51 0 1.02-.2 1.41-.59l7.78-7.78 2.81-2.81c.8-.78.8-2.07 0-2.86zM5.41 20L4 18.59l7.72-7.72 1.47 1.35L5.41 20z\"/>\n",
              "  </svg>\n",
              "      </button>\n",
              "      \n",
              "  <style>\n",
              "    .colab-df-container {\n",
              "      display:flex;\n",
              "      flex-wrap:wrap;\n",
              "      gap: 12px;\n",
              "    }\n",
              "\n",
              "    .colab-df-convert {\n",
              "      background-color: #E8F0FE;\n",
              "      border: none;\n",
              "      border-radius: 50%;\n",
              "      cursor: pointer;\n",
              "      display: none;\n",
              "      fill: #1967D2;\n",
              "      height: 32px;\n",
              "      padding: 0 0 0 0;\n",
              "      width: 32px;\n",
              "    }\n",
              "\n",
              "    .colab-df-convert:hover {\n",
              "      background-color: #E2EBFA;\n",
              "      box-shadow: 0px 1px 2px rgba(60, 64, 67, 0.3), 0px 1px 3px 1px rgba(60, 64, 67, 0.15);\n",
              "      fill: #174EA6;\n",
              "    }\n",
              "\n",
              "    [theme=dark] .colab-df-convert {\n",
              "      background-color: #3B4455;\n",
              "      fill: #D2E3FC;\n",
              "    }\n",
              "\n",
              "    [theme=dark] .colab-df-convert:hover {\n",
              "      background-color: #434B5C;\n",
              "      box-shadow: 0px 1px 3px 1px rgba(0, 0, 0, 0.15);\n",
              "      filter: drop-shadow(0px 1px 2px rgba(0, 0, 0, 0.3));\n",
              "      fill: #FFFFFF;\n",
              "    }\n",
              "  </style>\n",
              "\n",
              "      <script>\n",
              "        const buttonEl =\n",
              "          document.querySelector('#df-00567ac1-fb9f-4055-bf00-4db48138eb20 button.colab-df-convert');\n",
              "        buttonEl.style.display =\n",
              "          google.colab.kernel.accessAllowed ? 'block' : 'none';\n",
              "\n",
              "        async function convertToInteractive(key) {\n",
              "          const element = document.querySelector('#df-00567ac1-fb9f-4055-bf00-4db48138eb20');\n",
              "          const dataTable =\n",
              "            await google.colab.kernel.invokeFunction('convertToInteractive',\n",
              "                                                     [key], {});\n",
              "          if (!dataTable) return;\n",
              "\n",
              "          const docLinkHtml = 'Like what you see? Visit the ' +\n",
              "            '<a target=\"_blank\" href=https://colab.research.google.com/notebooks/data_table.ipynb>data table notebook</a>'\n",
              "            + ' to learn more about interactive tables.';\n",
              "          element.innerHTML = '';\n",
              "          dataTable['output_type'] = 'display_data';\n",
              "          await google.colab.output.renderOutput(dataTable, element);\n",
              "          const docLink = document.createElement('div');\n",
              "          docLink.innerHTML = docLinkHtml;\n",
              "          element.appendChild(docLink);\n",
              "        }\n",
              "      </script>\n",
              "    </div>\n",
              "  </div>\n",
              "  "
            ]
          },
          "metadata": {},
          "execution_count": 5
        }
      ]
    },
    {
      "cell_type": "code",
      "execution_count": 11,
      "metadata": {
        "scrolled": true,
        "colab": {
          "base_uri": "https://localhost:8080/",
          "height": 302
        },
        "id": "Hk50U3UdM92O",
        "outputId": "53ce71f3-2df0-4a9f-f5c3-813be2b87bdf"
      },
      "outputs": [
        {
          "output_type": "execute_result",
          "data": {
            "text/plain": [
              "<matplotlib.axes._subplots.AxesSubplot at 0x7fd59f6a6b90>"
            ]
          },
          "metadata": {},
          "execution_count": 11
        },
        {
          "output_type": "display_data",
          "data": {
            "text/plain": [
              "<Figure size 432x288 with 1 Axes>"
            ],
            "image/png": "[encoded data removed]"
          },
          "metadata": {}
        }
      ],
      "source": [
        "sns.scatterplot(x='total_spend',y='sales',data=df)"
      ]
    },
    {
      "cell_type": "code",
      "source": [
        "sns.scatterplot(x='TV',y='sales',data=df)"
      ],
      "metadata": {
        "colab": {
          "base_uri": "https://localhost:8080/",
          "height": 302
        },
        "id": "ajzK5Xs-Pq6U",
        "outputId": "13c539b0-9825-41c0-a053-5597496cad43"
      },
      "execution_count": 12,
      "outputs": [
        {
          "output_type": "execute_result",
          "data": {
            "text/plain": [
              "<matplotlib.axes._subplots.AxesSubplot at 0x7fd59f61b610>"
            ]
          },
          "metadata": {},
          "execution_count": 12
        },
        {
          "output_type": "display_data",
          "data": {
            "text/plain": [
              "<Figure size 432x288 with 1 Axes>"
            ],
            "image/png": "[encoded data removed]"
          },
          "metadata": {}
        }
      ]
    },
    {
      "cell_type": "code",
      "source": [
        "sns.scatterplot(x='newspaper',y='sales',data=df)"
      ],
      "metadata": {
        "colab": {
          "base_uri": "https://localhost:8080/",
          "height": 302
        },
        "id": "01vAX0IEP4dO",
        "outputId": "b414214e-c36b-49c3-8053-a65b71ffdc29"
      },
      "execution_count": 14,
      "outputs": [
        {
          "output_type": "execute_result",
          "data": {
            "text/plain": [
              "<matplotlib.axes._subplots.AxesSubplot at 0x7fd59f508450>"
            ]
          },
          "metadata": {},
          "execution_count": 14
        },
        {
          "output_type": "display_data",
          "data": {
            "text/plain": [
              "<Figure size 432x288 with 1 Axes>"
            ],
            "image/png": "[encoded data removed]"
          },
          "metadata": {}
        }
      ]
    },
    {
      "cell_type": "code",
      "source": [
        "sns.scatterplot(x='total_spend',y='sales',data=df)"
      ],
      "metadata": {
        "colab": {
          "base_uri": "https://localhost:8080/",
          "height": 302
        },
        "id": "Lp5HcMGjP_JH",
        "outputId": "099a607c-1cab-45db-f70d-0c485f7947f1"
      },
      "execution_count": 15,
      "outputs": [
        {
          "output_type": "execute_result",
          "data": {
            "text/plain": [
              "<matplotlib.axes._subplots.AxesSubplot at 0x7fd59f476690>"
            ]
          },
          "metadata": {},
          "execution_count": 15
        },
        {
          "output_type": "display_data",
          "data": {
            "text/plain": [
              "<Figure size 432x288 with 1 Axes>"
            ],
            "image/png": "[encoded data removed]"
          },
          "metadata": {}
        }
      ]
    },
    {
      "cell_type": "markdown",
      "metadata": {
        "id": "g736TDT2M92P"
      },
      "source": [
        "## Least Squares Line\n",
        "\n",
        "Full formulas available on Wikipedia: https://en.wikipedia.org/wiki/Linear_regression ,as well as in ISLR reading."
      ]
    },
    {
      "cell_type": "markdown",
      "metadata": {
        "id": "giN9NvAFM92Q"
      },
      "source": [
        "**Understanding what a line of best fit answers.**\n",
        "If someone was to spend a total of $200 , what would the expected sales be? We have simplified this quite a bit by combining all the features into \"total spend\", but we will come back to individual features later on. For now, let's focus on understanding what a linear regression line can help answer.\n",
        "\n",
        "**Our next ad campaign will have a total spend of $200, how many units do we expect to sell as a result of this?**"
      ]
    },
    {
      "cell_type": "code",
      "execution_count": 16,
      "metadata": {
        "colab": {
          "base_uri": "https://localhost:8080/",
          "height": 302
        },
        "id": "ucuFdL2KM92R",
        "outputId": "c502b82d-1357-4d74-e729-6f1492fd4685"
      },
      "outputs": [
        {
          "output_type": "execute_result",
          "data": {
            "text/plain": [
              "<matplotlib.axes._subplots.AxesSubplot at 0x7fd59f4350d0>"
            ]
          },
          "metadata": {},
          "execution_count": 16
        },
        {
          "output_type": "display_data",
          "data": {
            "text/plain": [
              "<Figure size 432x288 with 1 Axes>"
            ],
            "image/png": "[encoded data removed]"
          },
          "metadata": {}
        }
      ],
      "source": [
        "# Basically, we want to figure out how to create this line\n",
        "sns.regplot(x='total_spend',y='sales',data=df)"
      ]
    },
    {
      "cell_type": "markdown",
      "metadata": {
        "id": "hBaNyxQjM92S"
      },
      "source": [
        "Let's go ahead and start solving: $$y=mx+b$$"
      ]
    },
    {
      "cell_type": "markdown",
      "metadata": {
        "id": "O-c-ZsrOM92S"
      },
      "source": [
        "Simply solve for m and b, remember, that as shown in the video, we are solving in a generalized form:\n",
        "\n",
        "$$ \\hat{y} = \\beta_0 + \\beta_1X$$\n",
        "\n",
        "Capitalized to signal that we are dealing with a matrix of values, we have a known matrix of labels (sales numbers) Y and a known matrix of total_spend (X). We are going to solve for the *beta* coefficients, which as we expand to more than just a single feature, will be important to build an understanding of what features have the most predictive power. We use y hat to indicate that y hat is a prediction or estimation, y would be a true label/known value.\n",
        "\n",
        "We can use NumPy for this (if you really wanted to, you could solve this by [hand](https://towardsdatascience.com/linear-regression-by-hand-ee7fe5a751bf))"
      ]
    },
    {
      "cell_type": "code",
      "execution_count": 17,
      "metadata": {
        "id": "sFI32IhxM92T"
      },
      "outputs": [],
      "source": [
        "X = df['total_spend']\n",
        "y = df['sales']"
      ]
    },
    {
      "cell_type": "code",
      "execution_count": 18,
      "metadata": {
        "colab": {
          "base_uri": "https://localhost:8080/"
        },
        "id": "Fx7grO_OM92U",
        "outputId": "b5f633ed-5651-418d-93d2-ad11e49555fb"
      },
      "outputs": [
        {
          "output_type": "stream",
          "name": "stdout",
          "text": [
            "Help on function polyfit in module numpy:\n",
            "\n",
            "polyfit(x, y, deg, rcond=None, full=False, w=None, cov=False)\n",
            "    Least squares polynomial fit.\n",
            "    \n",
            "    .. note::\n",
            "       This forms part of the old polynomial API. Since version 1.4, the\n",
            "       new polynomial API defined in `numpy.polynomial` is preferred.\n",
            "       A summary of the differences can be found in the\n",
            "       :doc:`transition guide </reference/routines.polynomials>`.\n",
            "    \n",
            "    Fit a polynomial ``p(x) = p[0] * x**deg + ... + p[deg]`` of degree `deg`\n",
            "    to points `(x, y)`. Returns a vector of coefficients `p` that minimises\n",
            "    the squared error in the order `deg`, `deg-1`, ... `0`.\n",
            "    \n",
            "    The `Polynomial.fit <numpy.polynomial.polynomial.Polynomial.fit>` class\n",
            "    method is recommended for new code as it is more stable numerically. See\n",
            "    the documentation of the method for more information.\n",
            "    \n",
            "    Parameters\n",
            "    ----------\n",
            "    x : array_like, shape (M,)\n",
            "        x-coordinates of the M sample points ``(x[i], y[i])``.\n",
            "    y : array_like, shape (M,) or (M, K)\n",
            "        y-coordinates of the sample points. Several data sets of sample\n",
            "        points sharing the same x-coordinates can be fitted at once by\n",
            "        passing in a 2D-array that contains one dataset per column.\n",
            "    deg : int\n",
            "        Degree of the fitting polynomial\n",
            "    rcond : float, optional\n",
            "        Relative condition number of the fit. Singular values smaller than\n",
            "        this relative to the largest singular value will be ignored. The\n",
            "        default value is len(x)*eps, where eps is the relative precision of\n",
            "        the float type, about 2e-16 in most cases.\n",
            "    full : bool, optional\n",
            "        Switch determining nature of return value. When it is False (the\n",
            "        default) just the coefficients are returned, when True diagnostic\n",
            "        information from the singular value decomposition is also returned.\n",
            "    w : array_like, shape (M,), optional\n",
            "        Weights to apply to the y-coordinates of the sample points. For\n",
            "        gaussian uncertainties, use 1/sigma (not 1/sigma**2).\n",
            "    cov : bool or str, optional\n",
            "        If given and not `False`, return not just the estimate but also its\n",
            "        covariance matrix. By default, the covariance are scaled by\n",
            "        chi2/dof, where dof = M - (deg + 1), i.e., the weights are presumed \n",
            "        to be unreliable except in a relative sense and everything is scaled \n",
            "        such that the reduced chi2 is unity. This scaling is omitted if \n",
            "        ``cov='unscaled'``, as is relevant for the case that the weights are \n",
            "        1/sigma**2, with sigma known to be a reliable estimate of the \n",
            "        uncertainty.\n",
            "    \n",
            "    Returns\n",
            "    -------\n",
            "    p : ndarray, shape (deg + 1,) or (deg + 1, K)\n",
            "        Polynomial coefficients, highest power first.  If `y` was 2-D, the\n",
            "        coefficients for `k`-th data set are in ``p[:,k]``.\n",
            "    \n",
            "    residuals, rank, singular_values, rcond\n",
            "        Present only if `full` = True.  Residuals is sum of squared residuals\n",
            "        of the least-squares fit, the effective rank of the scaled Vandermonde\n",
            "        coefficient matrix, its singular values, and the specified value of\n",
            "        `rcond`. For more details, see `linalg.lstsq`.\n",
            "    \n",
            "    V : ndarray, shape (M,M) or (M,M,K)\n",
            "        Present only if `full` = False and `cov`=True.  The covariance\n",
            "        matrix of the polynomial coefficient estimates.  The diagonal of\n",
            "        this matrix are the variance estimates for each coefficient.  If y\n",
            "        is a 2-D array, then the covariance matrix for the `k`-th data set\n",
            "        are in ``V[:,:,k]``\n",
            "    \n",
            "    \n",
            "    Warns\n",
            "    -----\n",
            "    RankWarning\n",
            "        The rank of the coefficient matrix in the least-squares fit is\n",
            "        deficient. The warning is only raised if `full` = False.\n",
            "    \n",
            "        The warnings can be turned off by\n",
            "    \n",
            "        >>> import warnings\n",
            "        >>> warnings.simplefilter('ignore', np.RankWarning)\n",
            "    \n",
            "    See Also\n",
            "    --------\n",
            "    polyval : Compute polynomial values.\n",
            "    linalg.lstsq : Computes a least-squares fit.\n",
            "    scipy.interpolate.UnivariateSpline : Computes spline fits.\n",
            "    \n",
            "    Notes\n",
            "    -----\n",
            "    The solution minimizes the squared error\n",
            "    \n",
            "    .. math ::\n",
            "        E = \\sum_{j=0}^k |p(x_j) - y_j|^2\n",
            "    \n",
            "    in the equations::\n",
            "    \n",
            "        x[0]**n * p[0] + ... + x[0] * p[n-1] + p[n] = y[0]\n",
            "        x[1]**n * p[0] + ... + x[1] * p[n-1] + p[n] = y[1]\n",
            "        ...\n",
            "        x[k]**n * p[0] + ... + x[k] * p[n-1] + p[n] = y[k]\n",
            "    \n",
            "    The coefficient matrix of the coefficients `p` is a Vandermonde matrix.\n",
            "    \n",
            "    `polyfit` issues a `RankWarning` when the least-squares fit is badly\n",
            "    conditioned. This implies that the best fit is not well-defined due\n",
            "    to numerical error. The results may be improved by lowering the polynomial\n",
            "    degree or by replacing `x` by `x` - `x`.mean(). The `rcond` parameter\n",
            "    can also be set to a value smaller than its default, but the resulting\n",
            "    fit may be spurious: including contributions from the small singular\n",
            "    values can add numerical noise to the result.\n",
            "    \n",
            "    Note that fitting polynomial coefficients is inherently badly conditioned\n",
            "    when the degree of the polynomial is large or the interval of sample points\n",
            "    is badly centered. The quality of the fit should always be checked in these\n",
            "    cases. When polynomial fits are not satisfactory, splines may be a good\n",
            "    alternative.\n",
            "    \n",
            "    References\n",
            "    ----------\n",
            "    .. [1] Wikipedia, \"Curve fitting\",\n",
            "           https://en.wikipedia.org/wiki/Curve_fitting\n",
            "    .. [2] Wikipedia, \"Polynomial interpolation\",\n",
            "           https://en.wikipedia.org/wiki/Polynomial_interpolation\n",
            "    \n",
            "    Examples\n",
            "    --------\n",
            "    >>> import warnings\n",
            "    >>> x = np.array([0.0, 1.0, 2.0, 3.0,  4.0,  5.0])\n",
            "    >>> y = np.array([0.0, 0.8, 0.9, 0.1, -0.8, -1.0])\n",
            "    >>> z = np.polyfit(x, y, 3)\n",
            "    >>> z\n",
            "    array([ 0.08703704, -0.81349206,  1.69312169, -0.03968254]) # may vary\n",
            "    \n",
            "    It is convenient to use `poly1d` objects for dealing with polynomials:\n",
            "    \n",
            "    >>> p = np.poly1d(z)\n",
            "    >>> p(0.5)\n",
            "    0.6143849206349179 # may vary\n",
            "    >>> p(3.5)\n",
            "    -0.34732142857143039 # may vary\n",
            "    >>> p(10)\n",
            "    22.579365079365115 # may vary\n",
            "    \n",
            "    High-order polynomials may oscillate wildly:\n",
            "    \n",
            "    >>> with warnings.catch_warnings():\n",
            "    ...     warnings.simplefilter('ignore', np.RankWarning)\n",
            "    ...     p30 = np.poly1d(np.polyfit(x, y, 30))\n",
            "    ...\n",
            "    >>> p30(4)\n",
            "    -0.80000000000000204 # may vary\n",
            "    >>> p30(5)\n",
            "    -0.99999999999999445 # may vary\n",
            "    >>> p30(4.5)\n",
            "    -0.10547061179440398 # may vary\n",
            "    \n",
            "    Illustration:\n",
            "    \n",
            "    >>> import matplotlib.pyplot as plt\n",
            "    >>> xp = np.linspace(-2, 6, 100)\n",
            "    >>> _ = plt.plot(x, y, '.', xp, p(xp), '-', xp, p30(xp), '--')\n",
            "    >>> plt.ylim(-2,2)\n",
            "    (-2, 2)\n",
            "    >>> plt.show()\n",
            "\n"
          ]
        }
      ],
      "source": [
        "help(np.polyfit)"
      ]
    },
    {
      "cell_type": "code",
      "execution_count": 24,
      "metadata": {
        "colab": {
          "base_uri": "https://localhost:8080/"
        },
        "id": "ZNIPVBZzM92W",
        "outputId": "95333fb8-935a-4a45-c02b-88f64d80a40b"
      },
      "outputs": [
        {
          "output_type": "execute_result",
          "data": {
            "text/plain": [
              "array([0.04868788, 4.24302822])"
            ]
          },
          "metadata": {},
          "execution_count": 24
        }
      ],
      "source": [
        "# Returns highest order coef first!\n",
        "np.polyfit(X,y,1)"
      ]
    },
    {
      "cell_type": "code",
      "execution_count": 25,
      "metadata": {
        "id": "HoxHxdWvM92W"
      },
      "outputs": [],
      "source": [
        "# Potential Future Spend Budgets\n",
        "potential_spend = np.linspace(0,500,100)"
      ]
    },
    {
      "cell_type": "code",
      "source": [
        "potential_spend"
      ],
      "metadata": {
        "colab": {
          "base_uri": "https://localhost:8080/"
        },
        "id": "G8z3JNBeUtev",
        "outputId": "c187023d-ed32-4d44-8dd0-21caff034617"
      },
      "execution_count": 26,
      "outputs": [
        {
          "output_type": "execute_result",
          "data": {
            "text/plain": [
              "array([  0.        ,   5.05050505,  10.1010101 ,  15.15151515,\n",
              "        20.2020202 ,  25.25252525,  30.3030303 ,  35.35353535,\n",
              "        40.4040404 ,  45.45454545,  50.50505051,  55.55555556,\n",
              "        60.60606061,  65.65656566,  70.70707071,  75.75757576,\n",
              "        80.80808081,  85.85858586,  90.90909091,  95.95959596,\n",
              "       101.01010101, 106.06060606, 111.11111111, 116.16161616,\n",
              "       121.21212121, 126.26262626, 131.31313131, 136.36363636,\n",
              "       141.41414141, 146.46464646, 151.51515152, 156.56565657,\n",
              "       161.61616162, 166.66666667, 171.71717172, 176.76767677,\n",
              "       181.81818182, 186.86868687, 191.91919192, 196.96969697,\n",
              "       202.02020202, 207.07070707, 212.12121212, 217.17171717,\n",
              "       222.22222222, 227.27272727, 232.32323232, 237.37373737,\n",
              "       242.42424242, 247.47474747, 252.52525253, 257.57575758,\n",
              "       262.62626263, 267.67676768, 272.72727273, 277.77777778,\n",
              "       282.82828283, 287.87878788, 292.92929293, 297.97979798,\n",
              "       303.03030303, 308.08080808, 313.13131313, 318.18181818,\n",
              "       323.23232323, 328.28282828, 333.33333333, 338.38383838,\n",
              "       343.43434343, 348.48484848, 353.53535354, 358.58585859,\n",
              "       363.63636364, 368.68686869, 373.73737374, 378.78787879,\n",
              "       383.83838384, 388.88888889, 393.93939394, 398.98989899,\n",
              "       404.04040404, 409.09090909, 414.14141414, 419.19191919,\n",
              "       424.24242424, 429.29292929, 434.34343434, 439.39393939,\n",
              "       444.44444444, 449.49494949, 454.54545455, 459.5959596 ,\n",
              "       464.64646465, 469.6969697 , 474.74747475, 479.7979798 ,\n",
              "       484.84848485, 489.8989899 , 494.94949495, 500.        ])"
            ]
          },
          "metadata": {},
          "execution_count": 26
        }
      ]
    },
    {
      "cell_type": "code",
      "execution_count": 27,
      "metadata": {
        "id": "mP0o6QwXM92Y"
      },
      "outputs": [],
      "source": [
        "predicted_sales =  0.04868788*potential_spend + 4.24302822"
      ]
    },
    {
      "cell_type": "code",
      "source": [
        "predicted_sales"
      ],
      "metadata": {
        "colab": {
          "base_uri": "https://localhost:8080/"
        },
        "id": "yVscrByGVG54",
        "outputId": "37ac9de7-9b61-4887-f362-6c299403d0e3"
      },
      "execution_count": 28,
      "outputs": [
        {
          "output_type": "execute_result",
          "data": {
            "text/plain": [
              "array([ 4.24302822,  4.4889266 ,  4.73482499,  4.98072337,  5.22662176,\n",
              "        5.47252014,  5.71841852,  5.96431691,  6.21021529,  6.45611367,\n",
              "        6.70201206,  6.94791044,  7.19380883,  7.43970721,  7.68560559,\n",
              "        7.93150398,  8.17740236,  8.42330075,  8.66919913,  8.91509751,\n",
              "        9.1609959 ,  9.40689428,  9.65279266,  9.89869105, 10.14458943,\n",
              "       10.39048782, 10.6363862 , 10.88228458, 11.12818297, 11.37408135,\n",
              "       11.61997974, 11.86587812, 12.1117765 , 12.35767489, 12.60357327,\n",
              "       12.84947165, 13.09537004, 13.34126842, 13.58716681, 13.83306519,\n",
              "       14.07896357, 14.32486196, 14.57076034, 14.81665873, 15.06255711,\n",
              "       15.30845549, 15.55435388, 15.80025226, 16.04615064, 16.29204903,\n",
              "       16.53794741, 16.7838458 , 17.02974418, 17.27564256, 17.52154095,\n",
              "       17.76743933, 18.01333771, 18.2592361 , 18.50513448, 18.75103287,\n",
              "       18.99693125, 19.24282963, 19.48872802, 19.7346264 , 19.98052479,\n",
              "       20.22642317, 20.47232155, 20.71821994, 20.96411832, 21.2100167 ,\n",
              "       21.45591509, 21.70181347, 21.94771186, 22.19361024, 22.43950862,\n",
              "       22.68540701, 22.93130539, 23.17720378, 23.42310216, 23.66900054,\n",
              "       23.91489893, 24.16079731, 24.40669569, 24.65259408, 24.89849246,\n",
              "       25.14439085, 25.39028923, 25.63618761, 25.882086  , 26.12798438,\n",
              "       26.37388277, 26.61978115, 26.86567953, 27.11157792, 27.3574763 ,\n",
              "       27.60337468, 27.84927307, 28.09517145, 28.34106984, 28.58696822])"
            ]
          },
          "metadata": {},
          "execution_count": 28
        }
      ]
    },
    {
      "cell_type": "code",
      "execution_count": 23,
      "metadata": {
        "colab": {
          "base_uri": "https://localhost:8080/",
          "height": 285
        },
        "id": "rJnlnFhIM92Y",
        "outputId": "8f4a41a3-595a-4d1f-e88c-40f96e4ac007"
      },
      "outputs": [
        {
          "output_type": "execute_result",
          "data": {
            "text/plain": [
              "[<matplotlib.lines.Line2D at 0x7fd59f398f50>]"
            ]
          },
          "metadata": {},
          "execution_count": 23
        },
        {
          "output_type": "display_data",
          "data": {
            "text/plain": [
              "<Figure size 432x288 with 1 Axes>"
            ],
            "image/png": "[encoded data removed]"
          },
          "metadata": {}
        }
      ],
      "source": [
        "plt.plot(potential_spend,predicted_sales)"
      ]
    },
    {
      "cell_type": "code",
      "execution_count": 31,
      "metadata": {
        "colab": {
          "base_uri": "https://localhost:8080/",
          "height": 302
        },
        "id": "8RFkB0XRM92Z",
        "outputId": "0463b0e5-fbde-4e01-8a15-d7e158179426"
      },
      "outputs": [
        {
          "output_type": "execute_result",
          "data": {
            "text/plain": [
              "[<matplotlib.lines.Line2D at 0x7fd59f1c2c10>]"
            ]
          },
          "metadata": {},
          "execution_count": 31
        },
        {
          "output_type": "display_data",
          "data": {
            "text/plain": [
              "<Figure size 432x288 with 1 Axes>"
            ],
            "image/png": "[encoded data removed]"
          },
          "metadata": {}
        }
      ],
      "source": [
        "sns.scatterplot(x='total_spend',y='sales',data=df)\n",
        "plt.plot(potential_spend,predicted_sales,color='red')"
      ]
    },
    {
      "cell_type": "markdown",
      "metadata": {
        "id": "IrnQaAfoM92a"
      },
      "source": [
        "**Our next ad campaign will have a total spend of $200, how many units do we expect to sell as a result of this?**"
      ]
    },
    {
      "cell_type": "code",
      "execution_count": 32,
      "metadata": {
        "id": "FVbpot2DM92a"
      },
      "outputs": [],
      "source": [
        "spend = 200\n",
        "predicted_sales =  0.04868788*spend + 4.24302822"
      ]
    },
    {
      "cell_type": "code",
      "execution_count": 33,
      "metadata": {
        "colab": {
          "base_uri": "https://localhost:8080/"
        },
        "id": "_pT20fonM92f",
        "outputId": "76c62c32-f890-4d7d-c24a-b717a24cb093"
      },
      "outputs": [
        {
          "output_type": "execute_result",
          "data": {
            "text/plain": [
              "13.98060422"
            ]
          },
          "metadata": {},
          "execution_count": 33
        }
      ],
      "source": [
        "predicted_sales"
      ]
    },
    {
      "cell_type": "markdown",
      "metadata": {
        "id": "yewyse5OM92g"
      },
      "source": [
        "# Further considerations...which we will explore in much more depth!"
      ]
    },
    {
      "cell_type": "markdown",
      "metadata": {
        "id": "Hz1Stp-rM92h"
      },
      "source": [
        "## Overfitting, Underfitting, and Measuring Performance\n",
        "\n",
        "Notice we fit to order=1 , essentially a straight line, we can begin to explore higher orders, but does higher order mean an overall better fit? Is it possible to fit too much? Too little? How would we know and how do we even define a good fit?"
      ]
    },
    {
      "cell_type": "code",
      "execution_count": null,
      "metadata": {
        "id": "Ollsec5VM92h",
        "outputId": "b41a0d7a-8a08-42a8-bb86-f997fad8b150"
      },
      "outputs": [
        {
          "data": {
            "text/plain": [
              "array([ 3.07615033e-07, -1.89392449e-04,  8.20886302e-02,  2.70495053e+00])"
            ]
          },
          "execution_count": 33,
          "metadata": {},
          "output_type": "execute_result"
        }
      ],
      "source": [
        "np.polyfit(X,y,3)"
      ]
    },
    {
      "cell_type": "code",
      "execution_count": null,
      "metadata": {
        "id": "JmZsFljgM92i"
      },
      "outputs": [],
      "source": [
        "# Potential Future Spend Budgets\n",
        "potential_spend = np.linspace(0,500,100)"
      ]
    },
    {
      "cell_type": "code",
      "execution_count": null,
      "metadata": {
        "id": "PQXOtFscM92j"
      },
      "outputs": [],
      "source": [
        "predicted_sales =   3.07615033e-07*potential_spend**3 + -1.89392449e-04*potential_spend**2 + 8.20886302e-02*potential_spend**1 + 2.70495053e+00"
      ]
    },
    {
      "cell_type": "code",
      "execution_count": null,
      "metadata": {
        "id": "fFW-HwKKM92j",
        "outputId": "0b5d3478-22b2-43ab-e8c6-580b26bc626b"
      },
      "outputs": [
        {
          "data": {
            "text/plain": [
              "[<matplotlib.lines.Line2D at 0x1a945c52908>]"
            ]
          },
          "execution_count": 40,
          "metadata": {},
          "output_type": "execute_result"
        },
        {
          "data": {
            "image/png": "[encoded data removed]",
            "text/plain": [
              "<Figure size 432x288 with 1 Axes>"
            ]
          },
          "metadata": {
            "needs_background": "light"
          },
          "output_type": "display_data"
        }
      ],
      "source": [
        "sns.scatterplot(x='total_spend',y='sales',data=df)\n",
        "plt.plot(potential_spend,predicted_sales,color='red')"
      ]
    },
    {
      "cell_type": "markdown",
      "metadata": {
        "id": "p4uHa6nxM92k"
      },
      "source": [
        "**Is this better than our straight line fit? What are good ways of measuring this?**"
      ]
    },
    {
      "cell_type": "markdown",
      "metadata": {
        "id": "SWDPlUI6M92k"
      },
      "source": [
        "## Multiple Features\n",
        "\n",
        "The real data had 3 features, not everything in total spend, this would allow us to repeat the process and maybe get a more accurate result?"
      ]
    },
    {
      "cell_type": "code",
      "execution_count": null,
      "metadata": {
        "id": "cQJunbyZM92k"
      },
      "outputs": [],
      "source": [
        "X = df[['TV','radio','newspaper']]\n",
        "y = df['sales']"
      ]
    },
    {
      "cell_type": "code",
      "execution_count": null,
      "metadata": {
        "id": "crG5vO8LM92l",
        "outputId": "9bbe3d61-0846-46f6-d638-cd5bd7087cfa"
      },
      "outputs": [
        {
          "ename": "TypeError",
          "evalue": "expected 1D vector for x",
          "output_type": "error",
          "traceback": [
            "\u001b[1;31m---------------------------------------------------------------------------\u001b[0m",
            "\u001b[1;31mTypeError\u001b[0m                                 Traceback (most recent call last)",
            "\u001b[1;32m<ipython-input-41-f24479bbc916>\u001b[0m in \u001b[0;36m<module>\u001b[1;34m\u001b[0m\n\u001b[0;32m      1\u001b[0m \u001b[1;31m# Note here we're passing in 3 which matches up with 3 unique features, so we're not polynomial yet\u001b[0m\u001b[1;33m\u001b[0m\u001b[1;33m\u001b[0m\u001b[1;33m\u001b[0m\u001b[0m\n\u001b[1;32m----> 2\u001b[1;33m \u001b[0mnp\u001b[0m\u001b[1;33m.\u001b[0m\u001b[0mpolyfit\u001b[0m\u001b[1;33m(\u001b[0m\u001b[0mX\u001b[0m\u001b[1;33m,\u001b[0m\u001b[0my\u001b[0m\u001b[1;33m,\u001b[0m\u001b[1;36m1\u001b[0m\u001b[1;33m)\u001b[0m\u001b[1;33m\u001b[0m\u001b[1;33m\u001b[0m\u001b[0m\n\u001b[0m",
            "\u001b[1;32m<__array_function__ internals>\u001b[0m in \u001b[0;36mpolyfit\u001b[1;34m(*args, **kwargs)\u001b[0m\n",
            "\u001b[1;32mc:\\users\\marcial\\anaconda3\\envs\\ml_master\\lib\\site-packages\\numpy\\lib\\polynomial.py\u001b[0m in \u001b[0;36mpolyfit\u001b[1;34m(x, y, deg, rcond, full, w, cov)\u001b[0m\n\u001b[0;32m    597\u001b[0m         \u001b[1;32mraise\u001b[0m \u001b[0mValueError\u001b[0m\u001b[1;33m(\u001b[0m\u001b[1;34m\"expected deg >= 0\"\u001b[0m\u001b[1;33m)\u001b[0m\u001b[1;33m\u001b[0m\u001b[1;33m\u001b[0m\u001b[0m\n\u001b[0;32m    598\u001b[0m     \u001b[1;32mif\u001b[0m \u001b[0mx\u001b[0m\u001b[1;33m.\u001b[0m\u001b[0mndim\u001b[0m \u001b[1;33m!=\u001b[0m \u001b[1;36m1\u001b[0m\u001b[1;33m:\u001b[0m\u001b[1;33m\u001b[0m\u001b[1;33m\u001b[0m\u001b[0m\n\u001b[1;32m--> 599\u001b[1;33m         \u001b[1;32mraise\u001b[0m \u001b[0mTypeError\u001b[0m\u001b[1;33m(\u001b[0m\u001b[1;34m\"expected 1D vector for x\"\u001b[0m\u001b[1;33m)\u001b[0m\u001b[1;33m\u001b[0m\u001b[1;33m\u001b[0m\u001b[0m\n\u001b[0m\u001b[0;32m    600\u001b[0m     \u001b[1;32mif\u001b[0m \u001b[0mx\u001b[0m\u001b[1;33m.\u001b[0m\u001b[0msize\u001b[0m \u001b[1;33m==\u001b[0m \u001b[1;36m0\u001b[0m\u001b[1;33m:\u001b[0m\u001b[1;33m\u001b[0m\u001b[1;33m\u001b[0m\u001b[0m\n\u001b[0;32m    601\u001b[0m         \u001b[1;32mraise\u001b[0m \u001b[0mTypeError\u001b[0m\u001b[1;33m(\u001b[0m\u001b[1;34m\"expected non-empty vector for x\"\u001b[0m\u001b[1;33m)\u001b[0m\u001b[1;33m\u001b[0m\u001b[1;33m\u001b[0m\u001b[0m\n",
            "\u001b[1;31mTypeError\u001b[0m: expected 1D vector for x"
          ]
        }
      ],
      "source": [
        "# Note here we're passing in 3 which matches up with 3 unique features, so we're not polynomial yet\n",
        "np.polyfit(X,y,1)"
      ]
    },
    {
      "cell_type": "markdown",
      "metadata": {
        "id": "b1FmYth8M92l"
      },
      "source": [
        "**Uh oh! Polyfit only works with a 1D X array! We'll need to move on to a more powerful library...**"
      ]
    },
    {
      "cell_type": "markdown",
      "metadata": {
        "id": "bY8rtArIM92m"
      },
      "source": [
        "-------\n",
        "--------"
      ]
    }
  ],
  "metadata": {
    "anaconda-cloud": {},
    "kernelspec": {
      "display_name": "Python 3",
      "language": "python",
      "name": "python3"
    },
    "language_info": {
      "codemirror_mode": {
        "name": "ipython",
        "version": 3
      },
      "file_extension": ".py",
      "mimetype": "text/x-python",
      "name": "python",
      "nbconvert_exporter": "python",
      "pygments_lexer": "ipython3",
      "version": "3.7.6"
    },
    "colab": {
      "provenance": [],
      "include_colab_link": true
    }
  },
  "nbformat": 4,
  "nbformat_minor": 0
}